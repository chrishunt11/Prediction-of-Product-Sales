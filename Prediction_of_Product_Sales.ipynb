{
  "nbformat": 4,
  "nbformat_minor": 0,
  "metadata": {
    "colab": {
      "provenance": [],
      "authorship_tag": "ABX9TyPvTGlenfBEeFVssDs7UMg5",
      "include_colab_link": true
    },
    "kernelspec": {
      "name": "python3",
      "display_name": "Python 3"
    },
    "language_info": {
      "name": "python"
    }
  },
  "cells": [
    {
      "cell_type": "markdown",
      "metadata": {
        "id": "view-in-github",
        "colab_type": "text"
      },
      "source": [
        "<a href=\"https://colab.research.google.com/github/chrishunt11/Prediction-of-Product-Sales/blob/main/Prediction_of_Product_Sales.ipynb\" target=\"_parent\"><img src=\"https://colab.research.google.com/assets/colab-badge.svg\" alt=\"Open In Colab\"/></a>"
      ]
    },
    {
      "cell_type": "markdown",
      "source": [
        "# Prediction of Product Sales\n",
        "Christopher Hunt"
      ],
      "metadata": {
        "id": "ghlByBkEWapN"
      }
    },
    {
      "cell_type": "markdown",
      "source": [
        "## Project Overview"
      ],
      "metadata": {
        "id": "nUlqD4cSWtEc"
      }
    },
    {
      "cell_type": "markdown",
      "source": [
        "## Load and Inspect Data"
      ],
      "metadata": {
        "id": "8yyXQiobWwQn"
      }
    },
    {
      "cell_type": "code",
      "source": [],
      "metadata": {
        "id": "-2wXEEA0W9mo"
      },
      "execution_count": null,
      "outputs": []
    },
    {
      "cell_type": "markdown",
      "source": [
        "## Clean Data"
      ],
      "metadata": {
        "id": "JNPRYA5OWymB"
      }
    },
    {
      "cell_type": "code",
      "source": [],
      "metadata": {
        "id": "teNK3t0XW-eN"
      },
      "execution_count": null,
      "outputs": []
    },
    {
      "cell_type": "markdown",
      "source": [
        "## Exploratory Data Analysis"
      ],
      "metadata": {
        "id": "I49p8ZiJWz6f"
      }
    },
    {
      "cell_type": "code",
      "source": [],
      "metadata": {
        "id": "XFwl0z5mW_RX"
      },
      "execution_count": null,
      "outputs": []
    },
    {
      "cell_type": "markdown",
      "source": [
        "## Explanatory Data Analysis"
      ],
      "metadata": {
        "id": "uyZwO_3gW2lb"
      }
    },
    {
      "cell_type": "code",
      "source": [],
      "metadata": {
        "id": "m78VE3IzW_4J"
      },
      "execution_count": null,
      "outputs": []
    }
  ]
}